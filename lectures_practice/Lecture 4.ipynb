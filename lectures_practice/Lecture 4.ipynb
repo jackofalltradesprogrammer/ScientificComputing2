{
 "cells": [
  {
   "cell_type": "code",
   "execution_count": 4,
   "metadata": {},
   "outputs": [],
   "source": [
    "import numpy as np\n",
    "import netCDF4\n",
    "import os\n",
    "\n",
    "NEWFILE_PATH = 'newfiletest.nc'\n",
    "\n",
    "#if newfile already exits, remove it to avoid potential\n",
    "#permission problems\n",
    "# if os.path.isfile(NEWFILE_PATH):\n",
    "#     os.remove(NEWFILE_PATH)\n",
    "dataset = netCDF4.Dataset(NEWFILE_PATH, 'w', clobber=True)\n",
    "\n",
    "lon = dataset.createDimension('lon', 3)\n",
    "lat = dataset.createDimension('lat', 2)\n",
    "\n",
    "rh = dataset.createVariable('rh', np.float32, ('lon', 'lat'))\n",
    "rh.units = \"percent\"\n",
    "rh.long_name = \"Relative humidity\"\n",
    "rh_values = [68, 72, 83, 55, 42, 31]\n",
    "rh_values = np.array(rh_values)\n",
    "rh[:] = rh_values\n",
    "\n",
    "dataset.close()"
   ]
  },
  {
   "cell_type": "code",
   "execution_count": null,
   "metadata": {},
   "outputs": [],
   "source": []
  }
 ],
 "metadata": {
  "kernelspec": {
   "display_name": "Python 3",
   "language": "python",
   "name": "python3"
  },
  "language_info": {
   "codemirror_mode": {
    "name": "ipython",
    "version": 3
   },
   "file_extension": ".py",
   "mimetype": "text/x-python",
   "name": "python",
   "nbconvert_exporter": "python",
   "pygments_lexer": "ipython3",
   "version": "3.5.2"
  }
 },
 "nbformat": 4,
 "nbformat_minor": 2
}
