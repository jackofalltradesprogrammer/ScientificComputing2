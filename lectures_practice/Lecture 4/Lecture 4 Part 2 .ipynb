{
 "cells": [
  {
   "cell_type": "markdown",
   "metadata": {},
   "source": [
    "# Read and Copy the dimensions\n"
   ]
  },
  {
   "cell_type": "code",
   "execution_count": 3,
   "metadata": {},
   "outputs": [],
   "source": [
    "import numpy as np\n",
    "import netCDF4\n",
    "import os\n",
    "\n",
    "NEWFILE_PATH = 'newfiletest.nc'\n",
    "\n",
    "WRFOUT_FILE_PATH = 'wrfout_d01_2017-09-09_12:00:00'\n",
    "#Open original for reading and new diagnostic for writing\n",
    "orig_dataset = netCDF4.Dataset(NEWFILE_PATH, 'r')\n",
    "\n",
    "orig_dataset.close"
   ]
  },
  {
   "cell_type": "code",
   "execution_count": null,
   "metadata": {},
   "outputs": [],
   "source": []
  }
 ],
 "metadata": {
  "kernelspec": {
   "display_name": "Python 3",
   "language": "python",
   "name": "python3"
  }
 },
 "nbformat": 4,
 "nbformat_minor": 2
}
