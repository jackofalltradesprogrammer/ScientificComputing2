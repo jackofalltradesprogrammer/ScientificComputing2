{
 "cells": [
  {
   "cell_type": "markdown",
   "metadata": {},
   "source": [
    "# Read and Copy the dimensions\n"
   ]
  },
  {
   "cell_type": "code",
   "execution_count": 1,
   "metadata": {},
   "outputs": [
    {
     "name": "stdout",
     "output_type": "stream",
     "text": [
      "dimkeys: odict_keys(['Time', 'DateStrLen', 'west_east', 'south_north', 'bottom_top', 'bottom_top_stag', 'soil_layers_stag', 'west_east_stag', 'south_north_stag'])\n",
      "key: Time, name: Time, value: 1\n",
      "key: DateStrLen, name: DateStrLen, value: 19\n",
      "key: west_east, name: west_east, value: 97\n",
      "key: south_north, name: south_north, value: 69\n",
      "key: bottom_top, name: bottom_top, value: 50\n",
      "key: bottom_top_stag, name: bottom_top_stag, value: 51\n",
      "key: soil_layers_stag, name: soil_layers_stag, value: 4\n",
      "key: west_east_stag, name: west_east_stag, value: 98\n",
      "key: south_north_stag, name: south_north_stag, value: 70\n"
     ]
    }
   ],
   "source": [
    "import numpy as np\n",
    "import netCDF4\n",
    "import matplotlib.pyplot as plt\n",
    "import os\n",
    "\n",
    "NEWFILE_PATH = 'newfiletest.nc'\n",
    "\n",
    "WRFOUT_FILE_PATH = 'wrfout_d01_2017-09-09_12:00:00'\n",
    "#Open original for reading and new diagnostic for writing\n",
    "orig_dataset = netCDF4.Dataset(WRFOUT_FILE_PATH, 'r')\n",
    "\n",
    "#if newfile already exits, remove it to avoid potential\n",
    "#permission problems\n",
    "if os.path.isfile(NEWFILE_PATH):\n",
    "    os.remove(NEWFILE_PATH)\n",
    "diag_dataset = netCDF4.Dataset(NEWFILE_PATH, 'w', clobber=True)\n",
    "\n",
    "# List of all dimensions from original dataset\n",
    "# This is just for show\n",
    "dimkeys = orig_dataset.dimensions.keys()\n",
    "print('dimkeys: ' + str(dimkeys))\n",
    "for the_key in orig_dataset.dimensions.keys():\n",
    "    print('key: ' + str(the_key) +\n",
    "         ', name: ' + str(orig_dataset.dimensions[the_key].name) + \n",
    "         ', value: ' + str(orig_dataset.dimensions[the_key].size))\n",
    "\n",
    "# Write the same dimension to the diagnostic dataset\n",
    "for the_key in orig_dataset.dimensions.keys():\n",
    "    the_value = orig_dataset.dimensions[the_key].size\n",
    "    the_name = orig_dataset.dimensions[the_key].name\n",
    "    diag_dataset.createDimension(the_name, the_value)\n",
    "    \n",
    "\n",
    "# List all global attributes and their values\n",
    "#This is just for show\n",
    "# global_attributes = orig_dataset.ncattrs()\n",
    "# for attr in global_attributes:\n",
    "#     print(attr + ': ' + str(getattr(orig_dataset, attr)))\n",
    "    \n",
    "# Write the global attributes to diagnostic file\n",
    "for attr in orig_dataset.ncattrs():\n",
    "    attr_value = getattr(orig_dataset, attr)\n",
    "    setattr(diag_dataset, attr, attr_value)\n",
    "\n",
    "# orig_dataset.close\n",
    "# diag_dataset.close  "
   ]
  },
  {
   "cell_type": "code",
   "execution_count": 2,
   "metadata": {},
   "outputs": [],
   "source": [
    "# Create pressure height and temperature fields and write to new file\n",
    "\n",
    "# Let's get the P and PB arrays\n",
    "P = orig_dataset.variables['P'][:]\n",
    "PB = orig_dataset.variables['PB'][:]\n",
    "\n",
    "# Create the total pressure millibar field\n",
    "P_mb = (P + PB) * 0.01\n",
    "\n",
    "# Write it, along with attributes, to the diagnostic field\n",
    "pmb = diag_dataset.createVariable('P_mb', np.float32, \n",
    "                                 ('Time', 'bottom_top',\n",
    "                                  'south_north', 'west_east'))\n",
    "pmb.units = \"mb\"\n",
    "pmb.long_name = \"Pressure\"\n",
    "pmb[:] = P_mb"
   ]
  },
  {
   "cell_type": "code",
   "execution_count": 3,
   "metadata": {},
   "outputs": [],
   "source": [
    "#Then, Compute the temperature in degrees centigrade\n",
    "theta = orig_dataset.variables['T'][:] + 300.00\n",
    "T_c = theta*((P_mb)/1000.0)*(2.0/7.0)-273\n",
    "\n",
    "# Write the T_c variables to the diagnostic file\n",
    "tc = diag_dataset.createVariable('T_c', np.float32, \n",
    "                                ('Time', 'bottom_top',\n",
    "                                'south_north', 'west_east'))\n",
    "tc.units = \"c\"\n",
    "tc.long_name = \"Temperature\"\n",
    "tc[:] = T_c\n",
    "\n",
    "\n",
    "diag_dataset.close()\n",
    "orig_dataset.close()"
   ]
  },
  {
   "cell_type": "code",
   "execution_count": 4,
   "metadata": {},
   "outputs": [
    {
     "data": {
      "image/png": "[encoded data removed]",
      "text/plain": [
       "<matplotlib.figure.Figure at 0x7fc9a84f9c18>"
      ]
     },
     "metadata": {},
     "output_type": "display_data"
    }
   ],
   "source": [
    "#No, open the diagnostic dataset and plot T_c\n",
    "# at the lowest level\n",
    "dataset = netCDF4.Dataset(NEWFILE_PATH, 'r')\n",
    "\n",
    "tc_var = dataset.variables['T_c']\n",
    "tc = tc_var[:]\n",
    "\n",
    "plt.contourf(tc[0,0,:,:])\n",
    "plt.title(\"Level 0 T (degC)\")\n",
    "plt.colorbar()\n",
    "plt.show()\n",
    "\n",
    "dataset.close()"
   ]
  },
  {
   "cell_type": "code",
   "execution_count": null,
   "metadata": {},
   "outputs": [],
   "source": []
  }
 ],
 "metadata": {
  "kernelspec": {
   "display_name": "Python 3",
   "language": "python",
   "name": "python3"
  },
  "language_info": {
   "codemirror_mode": {
    "name": "ipython",
    "version": 3
   },
   "file_extension": ".py",
   "mimetype": "text/x-python",
   "name": "python",
   "nbconvert_exporter": "python",
   "pygments_lexer": "ipython3",
   "version": "3.5.2"
  }
 },
 "nbformat": 4,
 "nbformat_minor": 2
}
