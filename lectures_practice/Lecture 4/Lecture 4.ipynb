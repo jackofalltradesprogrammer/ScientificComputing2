{
 "cells": [
  {
   "cell_type": "code",
   "execution_count": 2,
   "metadata": {},
   "outputs": [],
   "source": [
    "import numpy as np\n",
    "import netCDF4\n",
    "import os\n",
    "\n",
    "NEWFILE_PATH = 'newfiletest.nc'\n",
    "\n",
    "#if newfile already exits, remove it to avoid potential\n",
    "#permission problems\n",
    "# if os.path.isfile(NEWFILE_PATH):\n",
    "#     os.remove(NEWFILE_PATH)\n",
    "dataset = netCDF4.Dataset(NEWFILE_PATH, 'w', clobber=True)\n",
    "\n",
    "lon = dataset.createDimension('lon', 3)\n",
    "lat = dataset.createDimension('lat', 2)\n",
    "\n",
    "rh = dataset.createVariable('rh', np.float32, ('lon', 'lat'))\n",
    "rh.units = \"percent\"\n",
    "rh.long_name = \"Relative humidity\"\n",
    "rh_values = [68, 72, 83, 55, 42, 31]\n",
    "rh_values = np.array(rh_values)\n",
    "rh[:] = rh_values\n",
    "\n",
    "dataset.close()"
   ]
  },
  {
   "cell_type": "markdown",
   "metadata": {},
   "source": [
    "# Reading the newly created 'newfiletest.nc'"
   ]
  },
  {
   "cell_type": "code",
   "execution_count": 3,
   "metadata": {},
   "outputs": [
    {
     "ename": "RuntimeError",
     "evalue": "NetCDF: Unknown file format",
     "output_type": "error",
     "traceback": [
      "\u001b[0;31m---------------------------------------------------------------------------\u001b[0m",
      "\u001b[0;31mRuntimeError\u001b[0m                              Traceback (most recent call last)",
      "\u001b[0;32m<ipython-input-3-969201263a57>\u001b[0m in \u001b[0;36m<module>\u001b[0;34m()\u001b[0m\n\u001b[1;32m      1\u001b[0m \u001b[0;31m# Now, let's open it again and make sure the\u001b[0m\u001b[0;34m\u001b[0m\u001b[0;34m\u001b[0m\u001b[0m\n\u001b[1;32m      2\u001b[0m \u001b[0;31m# dimensions and data are correct\u001b[0m\u001b[0;34m\u001b[0m\u001b[0;34m\u001b[0m\u001b[0m\n\u001b[0;32m----> 3\u001b[0;31m \u001b[0mdataset\u001b[0m \u001b[0;34m=\u001b[0m \u001b[0mnetCDF4\u001b[0m\u001b[0;34m.\u001b[0m\u001b[0mDataset\u001b[0m\u001b[0;34m(\u001b[0m\u001b[0mNEWFILE_PATH\u001b[0m\u001b[0;34m,\u001b[0m \u001b[0;34m'r'\u001b[0m\u001b[0;34m)\u001b[0m\u001b[0;34m\u001b[0m\u001b[0m\n\u001b[0m\u001b[1;32m      4\u001b[0m \u001b[0;34m\u001b[0m\u001b[0m\n\u001b[1;32m      5\u001b[0m \u001b[0;31m# List of all dimensions\u001b[0m\u001b[0;34m\u001b[0m\u001b[0;34m\u001b[0m\u001b[0m\n",
      "\u001b[0;32mnetCDF4/_netCDF4.pyx\u001b[0m in \u001b[0;36mnetCDF4._netCDF4.Dataset.__init__ (netCDF4/_netCDF4.c:12285)\u001b[0;34m()\u001b[0m\n",
      "\u001b[0;31mRuntimeError\u001b[0m: NetCDF: Unknown file format"
     ]
    }
   ],
   "source": [
    "# Now, let's open it again and make sure the \n",
    "# dimensions and data are correct\n",
    "dataset = netCDF4.Dataset(NEWFILE_PATH, 'r')\n",
    "\n",
    "# List of all dimensions \n",
    "dimkeys = dataset.dimensions.keys()\n",
    "print('dimkeys: ' + str(dimkeys))\n",
    "\n",
    "# List of all variables\n",
    "varkeys= dataset.variables.keys()\n",
    "print('varkeys: ' + str(varkeys))\n",
    "\n",
    "#Let's explore rh\n",
    "print(dataset.variables['rh'])\n",
    "\n",
    "#Get an identifier for the variable class\n",
    "rh_var = dataset.variables['rh']\n",
    "\n",
    "#Read the data into a NumPy array\n",
    "rh = rh_var[:]\n",
    "print(\"Datatype: \" + str(type(rh)))\n",
    "print(\"Shape of rh array: \" + str(rh.shape))\n",
    "\n",
    "dataset.close()\n"
   ]
  },
  {
   "cell_type": "markdown",
   "metadata": {},
   "source": [
    "# Adding a new field"
   ]
  },
  {
   "cell_type": "code",
   "execution_count": 3,
   "metadata": {},
   "outputs": [
    {
     "name": "stdout",
     "output_type": "stream",
     "text": [
      "NETCDF4\n"
     ]
    }
   ],
   "source": [
    "OLDFILE_PATH = 'newfiletest.nc'\n",
    "\n",
    "# Open the file for appending\n",
    "dataset = netCDF4.Dataset(OLDFILE_PATH, 'a')\n",
    "print(dataset.file_format)\n",
    "\n",
    "#Try a new field, t2 - Note this will only work once !!\n",
    "#When it is done a second time it will fail due to variable \n",
    "# already existing in the file\n",
    "\n",
    "try:\n",
    "    t2 = dataset.createVariable('t2', np.float32, ('lon', 'lat'))\n",
    "    t2.units = \"C\"\n",
    "    t2.long_name = \"2m Temperature\"\n",
    "    t2_values = [ 73, 75, 85, 57, 48, 39]\n",
    "    t2_values = np.array(t2_values)\n",
    "    t2[:] = t2_values\n",
    "except Exception as error:\n",
    "#     print('t2 creation failed - possible it already exists ...')\n",
    "    print(repr(error))\n",
    "\n",
    "dataset.close()\n",
    "    "
   ]
  },
  {
   "cell_type": "code",
   "execution_count": 4,
   "metadata": {},
   "outputs": [
    {
     "name": "stdout",
     "output_type": "stream",
     "text": [
      "Datatype: <class 'netCDF4._netCDF4.Variable'>\n",
      "Shape of rh array: (3, 2)\n",
      "t2 values <class 'netCDF4._netCDF4.Variable'>\n",
      "float32 t2(lon, lat)\n",
      "    units: C\n",
      "    long_name: 2m Temperature\n",
      "unlimited dimensions: \n",
      "current shape = (3, 2)\n",
      "filling on, default _FillValue of 9.969209968386869e+36 used\n",
      "\n"
     ]
    }
   ],
   "source": [
    "# Open the file for appending\n",
    "dataset = netCDF4.Dataset(OLDFILE_PATH, 'a')\n",
    "#Read the data(created below) into a NumPy array\n",
    "\n",
    "t2_var = dataset.variables['t2'][:]\n",
    "print(\"Datatype: \" + str(type(t2)))\n",
    "print(\"Shape of rh array: \" + str(t2.shape))\n",
    "print(\"t2 values \" + str(t2))\n",
    "dataset.close()"
   ]
  },
  {
   "cell_type": "code",
   "execution_count": null,
   "metadata": {},
   "outputs": [],
   "source": []
  }
 ],
 "metadata": {
  "kernelspec": {
   "display_name": "Python 3",
   "language": "python",
   "name": "python3"
  },
  "language_info": {
   "codemirror_mode": {
    "name": "ipython",
    "version": 3
   },
   "file_extension": ".py",
   "mimetype": "text/x-python",
   "name": "python",
   "nbconvert_exporter": "python",
   "pygments_lexer": "ipython3",
   "version": "3.5.2"
  }
 },
 "nbformat": 4,
 "nbformat_minor": 2
}
