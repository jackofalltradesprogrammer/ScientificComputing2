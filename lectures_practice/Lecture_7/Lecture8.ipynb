{
 "cells": [
  {
   "cell_type": "code",
   "execution_count": 8,
   "metadata": {},
   "outputs": [
    {
     "name": "stdout",
     "output_type": "stream",
     "text": [
      "[[ 0.]]\n",
      "[  6.89835425e-310]\n"
     ]
    }
   ],
   "source": [
    "import time\n",
    "import numpy as np\n",
    "import matplotlib.pyplot as plt\n",
    "import scipy.linalg\n",
    "\n",
    "def implicit_full_matrix(N, L, initial_value, left_bc, rightt_bc, c, rho, k_function, delta_t, t_n):\n",
    "    \n",
    "    \"\"\"\n",
    "    N : Number of nodes (including boundaries)\n",
    "    L : Length of domain\n",
    "    initial_values : .....\n",
    "    c : specific heat of medium (scalar constant)\n",
    "    rho : density of medium (scalar constant)\n",
    "    K : thermal conductivity of medium (function of scalar variable, u)\n",
    "    left_bc\n",
    "    right_bc\n",
    "    delta_t\n",
    "    t_n\n",
    "    \"\"\"\n",
    "    \n",
    "    # System of equations\n",
    "    A = np.ndarray( (N,N), dtype=np.float64)\n",
    "    f = np.ndarray( (N), dtype=np.float64)\n",
    "\n",
    "    # Create solution vector\n",
    "    u_old = np.ndarray( (N), dtype=np.float64)\n",
    "    u_new = np.ndarray( (N), dtype=np.float64)\n",
    "    \n",
    "    # Distance between nodes\n",
    "    h = L/(N-1)\n",
    "    \n",
    "    # Set initial values\n",
    "    u_new.fill(initial_value)"
   ]
  },
  {
   "cell_type": "code",
   "execution_count": null,
   "metadata": {},
   "outputs": [],
   "source": []
  },
  {
   "cell_type": "code",
   "execution_count": null,
   "metadata": {},
   "outputs": [],
   "source": []
  },
  {
   "cell_type": "code",
   "execution_count": null,
   "metadata": {},
   "outputs": [],
   "source": []
  }
 ],
 "metadata": {
  "kernelspec": {
   "display_name": "Python 3",
   "language": "python",
   "name": "python3"
  },
  "language_info": {
   "codemirror_mode": {
    "name": "ipython",
    "version": 3
   },
   "file_extension": ".py",
   "mimetype": "text/x-python",
   "name": "python",
   "nbconvert_exporter": "python",
   "pygments_lexer": "ipython3",
   "version": "3.5.2"
  }
 },
 "nbformat": 4,
 "nbformat_minor": 2
}
