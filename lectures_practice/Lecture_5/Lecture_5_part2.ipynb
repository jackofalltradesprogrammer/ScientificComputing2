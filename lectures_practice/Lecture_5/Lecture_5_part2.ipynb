{
 "cells": [
  {
   "cell_type": "code",
   "execution_count": 19,
   "metadata": {},
   "outputs": [
    {
     "data": {
      "text/plain": [
       "<matplotlib.collections.LineCollection at 0x7f7cdb492550>"
      ]
     },
     "execution_count": 19,
     "metadata": {},
     "output_type": "execute_result"
    },
    {
     "data": {
      "image/png": "[encoded data removed]",
      "text/plain": [
       "<matplotlib.figure.Figure at 0x7f7cdb6c4860>"
      ]
     },
     "metadata": {},
     "output_type": "display_data"
    }
   ],
   "source": [
    "# Create a map in cylindrical coordinate system\n",
    "# which has as corner lat/lon values teh corner\n",
    "# values from the wrfout file\n",
    "\n",
    "import numpy as np\n",
    "import matplotlib.pyplot as plt\n",
    "import mpl_toolkits.basemap as bm\n",
    "import netCDF4\n",
    "\n",
    "#WRFOUT_FILE_PATH = 'wrfout_d01_2017-09-11_06:00:00' # Florida\n",
    "WRFOUT_FILE_PATH ='wrfout_d01_2018-08-13_00:00:00' #Alaska\n",
    "\n",
    "dataset = netCDF4.Dataset(WRFOUT_FILE_PATH, 'r')\n",
    "\n",
    "# Get the 2D arrays of lats and lons, corresponding to \n",
    "# each data grid point\n",
    "# Recall that dimensions ar (Time, south_north, west_east)\n",
    "\n",
    "XLAT = dataset.variables['XLAT'][:]\n",
    "XLON = dataset.variables['XLONG'][:]\n",
    "\n",
    "#Get the lower left and upper right corner lat and lon\n",
    "ll_lat = XLAT[0, 0, 0]; ll_lon = XLON[0, 0, 0]\n",
    "ur_lat = XLAT[0, -1, -1]; ur_lon = XLON[0, -1, -1]\n",
    "\n",
    "# This is all we need to define a cylindrical map project\n",
    "the_map = bm.Basemap(projection='cyl',\n",
    "                    llcrnrlon=ll_lon,\n",
    "                    llcrnrlat=ll_lat,\n",
    "                    urcrnrlon=ur_lon,\n",
    "                    urcrnrlat=ur_lat,\n",
    "                    resolution= 'c', \n",
    "                    area_thresh=1000.0)\n",
    "the_map.drawcoastlines()\n",
    "\n",
    "# # Plot Miami\n",
    "# miami_lat = 25.76\n",
    "# miami_lon = -80.19\n",
    "\n",
    "# # Get the map coordinates\n",
    "# miami_mapx, miami_mapy = the_map(miami_lon, miami_lat)\n",
    "\n",
    "# # Plot it\n",
    "# the_map.plot(miami_mapx, miami_mapy, 'bo')\n",
    "# plt.text(miami_mapx, miami_mapy, \"Miami\")\n",
    "\n",
    "# LOCATIONS = {\n",
    "#     'name' : ['Miami', 'Etlanna', 'Nahwlins'],\n",
    "#     'lat'  : [25.26, 33.75, 29.95],\n",
    "#     'lon'  : [-80.19, -84.39, -90.07]\n",
    "# }\n",
    "\n",
    "# # Get the map coordinates\n",
    "# locations_mapx, locations_mapy = the_map(LOCATIONS['lon'], LOCATIONS['lat'])\n",
    "\n",
    "# #Plot the points\n",
    "# the_map.plot(locations_mapx, locations_mapy, 'bo')\n",
    "\n",
    "# # Plot the names\n",
    "# for name, xpt, ypt in zip(LOCATIONS['name'], locations_mapx, locations_mapy):\n",
    "#     plt.text(xpt, ypt, name)\n",
    "\n",
    "# # 2D surface pressure\n",
    "# PSFC = dataset.variables['PSFC'][:] * 0.01  # Millibars\n",
    "\n",
    "# #2d map coordinates\n",
    "# map2d_x, map2d_y = the_map(XLON[0,:,:], XLAT[0,:,:])\n",
    "\n",
    "# the_map.contourf(map2d_x, map2d_y, PSFC[0,:,:])\n",
    "\n",
    "# plt.colorbar()\n",
    "# plt.show"
   ]
  },
  {
   "cell_type": "code",
   "execution_count": 20,
   "metadata": {},
   "outputs": [
    {
     "name": "stderr",
     "output_type": "stream",
     "text": [
      "/usr/lib/python3/dist-packages/mpl_toolkits/basemap/__init__.py:3644: VisibleDeprecationWarning: using a non-integer number instead of an integer will result in an error in the future\n",
      "  xx = x[x.shape[0]/2,:]\n"
     ]
    },
    {
     "data": {
      "text/plain": [
       "<function matplotlib.pyplot.show(*args, **kw)>"
      ]
     },
     "execution_count": 20,
     "metadata": {},
     "output_type": "execute_result"
    },
    {
     "data": {
      "image/png": "[encoded data removed]",
      "text/plain": [
       "<matplotlib.figure.Figure at 0x7f7cdb5df518>"
      ]
     },
     "metadata": {},
     "output_type": "display_data"
    }
   ],
   "source": [
    "U_staggered = dataset.variables['U'][:]\n",
    "V_staggered = dataset.variables['V'][:]\n",
    "\n",
    "#Create WS10\n",
    "WS = (np.sqrt(U10**2 + V10**2)) *1.94384 #convert the units to knots\n",
    "\n",
    "def destagger_uv(ustagger=None, vstagger=None):\n",
    "   \n",
    "    \"\"\"\n",
    "    Creates arrays u and v on grid points rather than their native mass points\n",
    "    by assigning to each grid point the average of the adjacent mass points\n",
    "\n",
    "    Assumes ustagger has dimensions (Time, bottom_top, south_north, west_east_stag)\n",
    "    Assumes vstagger has dimensions (Time, bottom_top, south_north_stag, west_east)\n",
    "\n",
    "    By averaging, creates U and V arrays of dimensions \n",
    "    (Time, bottom_top, south_north, west_east)\n",
    "    \"\"\"\n",
    "\n",
    "    # We can compute the dimensions of the arrays through knowledge of \n",
    "    # their shapes\n",
    "    Time_dim = ustagger.shape[0]\n",
    "    bottom_top_dim = ustagger.shape[1]\n",
    "    south_north_dim = ustagger.shape[2]\n",
    "    west_east_stag_dim = ustagger.shape[3]\n",
    "    south_north_stag_dim = vstagger.shape[2]\n",
    "    west_east_dim = vstagger.shape[3]\n",
    "\n",
    "    # Allocate and shape the arrays that will be returned\n",
    "    u = v = np.ndarray( (Time_dim, bottom_top_dim, south_north_dim, west_east_dim) )\n",
    "\n",
    "    # Now the destaggering - each grid point in the destaggered array is\n",
    "    # the average of the adjacent mass points in the staggered arrays\n",
    "\n",
    "    for j in np.arange(west_east_dim):\n",
    "        u[:,:,:,j] = ( ustagger[:,:,:,j] + ustagger[:,:,:,j+1] ) / 2.0\n",
    "    for i in np.arange(south_north_dim):\n",
    "        v[:,:,i,:] = ( vstagger[:,:,i,:] + vstagger[:,:,i+1,:] ) / 2.0    \n",
    "\n",
    "    return u, v\n",
    "\n",
    "U10, V10 = destagger_uv(U_staggered, V_staggered)\n",
    "\n",
    "\n",
    "#2d map coordinates\n",
    "map2d_x, map2d_y = the_map(XLON[0,:,:], XLAT[0,:,:])\n",
    "\n",
    "LLWS = WS[0,1,:,:] - WS[0,0,:,:]\n",
    "the_map.contourf(map2d_x, map2d_y, LLWS[:,:])\n",
    "\n",
    "plt.colorbar()\n",
    "plt.show"
   ]
  },
  {
   "cell_type": "code",
   "execution_count": null,
   "metadata": {},
   "outputs": [],
   "source": []
  }
 ],
 "metadata": {
  "kernelspec": {
   "display_name": "Python 3",
   "language": "python",
   "name": "python3"
  },
  "language_info": {
   "codemirror_mode": {
    "name": "ipython",
    "version": 3
   },
   "file_extension": ".py",
   "mimetype": "text/x-python",
   "name": "python",
   "nbconvert_exporter": "python",
   "pygments_lexer": "ipython3",
   "version": "3.5.2"
  }
 },
 "nbformat": 4,
 "nbformat_minor": 2
}
