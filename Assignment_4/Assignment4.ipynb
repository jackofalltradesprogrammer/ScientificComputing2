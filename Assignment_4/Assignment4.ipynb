{
 "cells": [
  {
   "cell_type": "markdown",
   "metadata": {},
   "source": [
    "# <font color='green'> _Assignment 4_</font>\n",
    "***\n",
    "### <font color='green'>*Main Task*</font>\n",
    "> <font color='red'>To compute and plot the Low Level Wind Shear (LLWS) by computing windspeed from a wrfout  NetCDF file\n",
    "(Alaska or Florida),  using V and F fields . \n",
    "\n",
    "### <font color='green'>*Sub Tasks*</font>\n",
    "<font color='red'> \n",
    "> 1. 3D U and V fields are on “staggered” grids. Use the function destagger_uv(ustagger, vstagger)\n",
    "> 2. Covert XLAT & XLON to map coordinates\n",
    "> 3. \tPlot LLWS(knots) using Basemap(with Alaska or Florida Map)\n",
    "> 4. \tPlot a warning area where LLWS exceeds 10 knots * </font>\n"
   ]
  },
  {
   "cell_type": "markdown",
   "metadata": {},
   "source": [
    "### <font color='green'> *Define* </font>  `WRFOUT_FILE_PATH` "
   ]
  },
  {
   "cell_type": "code",
   "execution_count": 1,
   "metadata": {},
   "outputs": [],
   "source": [
    "import numpy as np\n",
    "import matplotlib.pyplot as plt\n",
    "import mpl_toolkits.basemap as bm\n",
    "import netCDF4\n",
    "import matplotlib.colors\n",
    "\n",
    "#WRFOUT_FILE_PATH = 'wrfout_d01_2017-09-11_06:00:00' # Florida\n",
    "WRFOUT_FILE_PATH ='wrfout_d01_2018-08-13_00:00:00' #Alaska"
   ]
  },
  {
   "cell_type": "markdown",
   "metadata": {},
   "source": [
    "### <font color='green'> *Extract* `U V XLAT XLONG`  *destaggerd* `U & V `</font>"
   ]
  },
  {
   "cell_type": "code",
   "execution_count": 5,
   "metadata": {},
   "outputs": [],
   "source": [
    "dataset = netCDF4.Dataset(WRFOUT_FILE_PATH, 'r')\n",
    "\n",
    "# Get the 2D arrays of lats and lons, corresponding to \n",
    "# each data grid point\n",
    "# Recall that dimensions ar (Time, south_north, west_east)\n",
    "\n",
    "XLAT = dataset.variables['XLAT'][:]\n",
    "XLON = dataset.variables['XLONG'][:]\n",
    "\n",
    "#Get the lower left and upper right corner lat and lon\n",
    "ll_lat = XLAT[0, 0, 0]; ll_lon = XLON[0, 0, 0]\n",
    "ur_lat = XLAT[0, -1, -1]; ur_lon = XLON[0, -1, -1]\n",
    "\n",
    "\n",
    "\n",
    "def destagger_uv(ustagger=None, vstagger=None):\n",
    "   \n",
    "    \"\"\"\n",
    "    Creates arrays u and v on grid points rather than their native mass points\n",
    "    by assigning to each grid point the average of the adjacent mass points\n",
    "\n",
    "    Assumes ustagger has dimensions (Time, bottom_top, south_north, west_east_stag)\n",
    "    Assumes vstagger has dimensions (Time, bottom_top, south_north_stag, west_east)\n",
    "\n",
    "    By averaging, creates U and V arrays of dimensions \n",
    "    (Time, bottom_top, south_north, west_east)\n",
    "    \"\"\"\n",
    "\n",
    "    # We can compute the dimensions of the arrays through knowledge of \n",
    "    # their shapes\n",
    "    Time_dim = ustagger.shape[0]\n",
    "    bottom_top_dim = ustagger.shape[1]\n",
    "    south_north_dim = ustagger.shape[2]\n",
    "    west_east_stag_dim = ustagger.shape[3]\n",
    "    south_north_stag_dim = vstagger.shape[2]\n",
    "    west_east_dim = vstagger.shape[3]\n",
    "\n",
    "    # Allocate and shape the arrays that will be returned\n",
    "    u = v = np.ndarray( (Time_dim, bottom_top_dim, south_north_dim, west_east_dim) )\n",
    "\n",
    "    # Now the destaggering - each grid point in the destaggered array is\n",
    "    # the average of the adjacent mass points in the staggered arrays\n",
    "\n",
    "    for j in np.arange(west_east_dim):\n",
    "        u[:,:,:,j] = ( ustagger[:,:,:,j] + ustagger[:,:,:,j+1] ) / 2.0\n",
    "    for i in np.arange(south_north_dim):\n",
    "        v[:,:,i,:] = ( vstagger[:,:,i,:] + vstagger[:,:,i+1,:] ) / 2.0    \n",
    "\n",
    "    return u, v\n",
    "\n",
    "\n",
    "U_staggered = dataset.variables['U'][:]\n",
    "V_staggered = dataset.variables['V'][:]\n",
    "U, V = destagger_uv(U_staggered, V_staggered)\n",
    "\n",
    "#Create WS10\n",
    "WS = (np.sqrt(U**2 + V**2)) *1.94384 #convert the units to knots\n",
    "dataset.close()"
   ]
  },
  {
   "cell_type": "markdown",
   "metadata": {},
   "source": [
    "### <font color='green'> *Compute `LLWS` 2D field and plot it* </font>"
   ]
  },
  {
   "cell_type": "code",
   "execution_count": 9,
   "metadata": {},
   "outputs": [
    {
     "name": "stderr",
     "output_type": "stream",
     "text": [
      "/usr/lib/python3/dist-packages/mpl_toolkits/basemap/__init__.py:3644: VisibleDeprecationWarning: using a non-integer number instead of an integer will result in an error in the future\n",
      "  xx = x[x.shape[0]/2,:]\n"
     ]
    },
    {
     "data": {
      "text/plain": [
       "<function matplotlib.pyplot.show(*args, **kw)>"
      ]
     },
     "execution_count": 9,
     "metadata": {},
     "output_type": "execute_result"
    },
    {
     "data": {
      "image/png": "[encoded data removed]",
      "text/plain": [
       "<matplotlib.figure.Figure at 0x7f0c53bdd978>"
      ]
     },
     "metadata": {},
     "output_type": "display_data"
    }
   ],
   "source": [
    "# This is all we need to define a cylindrical map project\n",
    "the_map = bm.Basemap(projection='cyl',\n",
    "                    llcrnrlon=ll_lon,\n",
    "                    llcrnrlat=ll_lat,\n",
    "                    urcrnrlon=ur_lon,\n",
    "                    urcrnrlat=ur_lat,\n",
    "                    resolution= 'i',\n",
    "                    area_thresh=100.0)\n",
    "the_map.drawcoastlines()\n",
    "LLWS = abs(WS[0,1,:,:] - WS[0,0,:,:])\n",
    "\n",
    "#2d map coordinates\n",
    "map2d_x, map2d_y = the_map(XLON[0,:,:], XLAT[0,:,:])\n",
    "\n",
    "the_map.contourf(map2d_x, map2d_y, LLWS[:,:])\n",
    "\n",
    "plt.title(\"LLWS (knots)\")\n",
    "plt.colorbar()\n",
    "plt.show\n"
   ]
  },
  {
   "cell_type": "markdown",
   "metadata": {},
   "source": [
    "### <font color='green'> *Compute \"warning areas\" where `LLWS > 10` & Plot*</font>"
   ]
  },
  {
   "cell_type": "code",
   "execution_count": 10,
   "metadata": {},
   "outputs": [
    {
     "data": {
      "text/plain": [
       "<function matplotlib.pyplot.show(*args, **kw)>"
      ]
     },
     "execution_count": 10,
     "metadata": {},
     "output_type": "execute_result"
    },
    {
     "data": {
      "image/png": "[encoded data removed]",
      "text/plain": [
       "<matplotlib.figure.Figure at 0x7f0c19ed7f98>"
      ]
     },
     "metadata": {},
     "output_type": "display_data"
    }
   ],
   "source": [
    "THRESHOLD = 10.0\n",
    "masked_array = (LLWS > THRESHOLD)\n",
    "\n",
    "# This is all we need to define a cylindrical map project\n",
    "the_map = bm.Basemap(projection='cyl',\n",
    "                    llcrnrlon=ll_lon,\n",
    "                    llcrnrlat=ll_lat,\n",
    "                    urcrnrlon=ur_lon,\n",
    "                    urcrnrlat=ur_lat,\n",
    "                    resolution= 'i',\n",
    "                    area_thresh=100.0)\n",
    "the_map.drawcoastlines()\n",
    "\n",
    "\n",
    "cmap = matplotlib.colors.ListedColormap(['w','r'])\n",
    "plt.contourf(map2d_x, map2d_y, masked_array, cmap=cmap)\n",
    "plt.title(\"LLWS > 10 knots\")\n",
    "plt.show"
   ]
  },
  {
   "cell_type": "markdown",
   "metadata": {},
   "source": [
    "## <font color='green'>*Conclusion*</font>\n",
    "> <font color='red'>I found this assignment very easy and it was fun too.<br> I followed the guidenlines and computed all variables according to the instructions.<br> I believe my results are valid because the graph is similar to the one shown in lecture.<br> Also, the computed values looks normal.<br> The formatting of the notebook was a great learning experience. </font>"
   ]
  }
 ],
 "metadata": {
  "kernelspec": {
   "display_name": "Python 3",
   "language": "python",
   "name": "python3"
  },
  "language_info": {
   "codemirror_mode": {
    "name": "ipython",
    "version": 3
   },
   "file_extension": ".py",
   "mimetype": "text/x-python",
   "name": "python",
   "nbconvert_exporter": "python",
   "pygments_lexer": "ipython3",
   "version": "3.5.2"
  }
 },
 "nbformat": 4,
 "nbformat_minor": 2
}
