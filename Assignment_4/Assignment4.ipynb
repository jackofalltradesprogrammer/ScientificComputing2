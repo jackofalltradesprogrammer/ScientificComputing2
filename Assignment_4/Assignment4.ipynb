{
 "cells": [
  {
   "cell_type": "code",
   "execution_count": 28,
   "metadata": {},
   "outputs": [
    {
     "name": "stdout",
     "output_type": "stream",
     "text": [
      "(1, 50, 99, 97)\n",
      "[[-1.45365809 -0.50067588  0.64669684 ...,  1.74613913  1.66981488\n",
      "   1.57921834]\n",
      " [-0.11894975  0.47651994  0.18664089 ...,  1.77075254  1.66436446\n",
      "   1.5285614 ]\n",
      " [ 3.27728418  2.89440714  1.28837058 ...,  1.78972153  1.64860045\n",
      "   1.47373472]\n",
      " ..., \n",
      " [ 2.00104793  2.70463731  2.45753842 ...,  2.1553507   1.18007065\n",
      "  -0.49283844]\n",
      " [ 1.99134256  2.73303114  2.31263429 ...,  2.12185118  1.84492638\n",
      "   0.35519563]\n",
      " [ 1.97226084  1.99553328  1.9620141  ...,  0.75646555  1.75501344\n",
      "   1.50077906]]\n"
     ]
    },
    {
     "name": "stderr",
     "output_type": "stream",
     "text": [
      "/usr/lib/python3/dist-packages/mpl_toolkits/basemap/__init__.py:3644: VisibleDeprecationWarning: using a non-integer number instead of an integer will result in an error in the future\n",
      "  xx = x[x.shape[0]/2,:]\n"
     ]
    },
    {
     "data": {
      "text/plain": [
       "<function matplotlib.pyplot.show(*args, **kw)>"
      ]
     },
     "execution_count": 28,
     "metadata": {},
     "output_type": "execute_result"
    },
    {
     "data": {
      "image/png": "[encoded data removed]",
      "text/plain": [
       "<matplotlib.figure.Figure at 0x7ffb26d6bf60>"
      ]
     },
     "metadata": {},
     "output_type": "display_data"
    }
   ],
   "source": [
    "import numpy as np\n",
    "import matplotlib.pyplot as plt\n",
    "import mpl_toolkits.basemap as bm\n",
    "import netCDF4\n",
    "\n",
    "#WRFOUT_FILE_PATH = 'wrfout_d01_2017-09-11_06:00:00' # Florida\n",
    "WRFOUT_FILE_PATH ='wrfout_d01_2018-08-13_00:00:00' #Alaska\n",
    "\n",
    "dataset = netCDF4.Dataset(WRFOUT_FILE_PATH, 'r')\n",
    "\n",
    "# Get the 2D arrays of lats and lons, corresponding to \n",
    "# each data grid point\n",
    "# Recall that dimensions ar (Time, south_north, west_east)\n",
    "\n",
    "XLAT = dataset.variables['XLAT'][:]\n",
    "XLON = dataset.variables['XLONG'][:]\n",
    "\n",
    "#Get the lower left and upper right corner lat and lon\n",
    "ll_lat = XLAT[0, 0, 0]; ll_lon = XLON[0, 0, 0]\n",
    "ur_lat = XLAT[0, -1, -1]; ur_lon = XLON[0, -1, -1]\n",
    "\n",
    "\n",
    "\n",
    "def destagger_uv(ustagger=None, vstagger=None):\n",
    "   \n",
    "    \"\"\"\n",
    "    Creates arrays u and v on grid points rather than their native mass points\n",
    "    by assigning to each grid point the average of the adjacent mass points\n",
    "\n",
    "    Assumes ustagger has dimensions (Time, bottom_top, south_north, west_east_stag)\n",
    "    Assumes vstagger has dimensions (Time, bottom_top, south_north_stag, west_east)\n",
    "\n",
    "    By averaging, creates U and V arrays of dimensions \n",
    "    (Time, bottom_top, south_north, west_east)\n",
    "    \"\"\"\n",
    "\n",
    "    # We can compute the dimensions of the arrays through knowledge of \n",
    "    # their shapes\n",
    "    Time_dim = ustagger.shape[0]\n",
    "    bottom_top_dim = ustagger.shape[1]\n",
    "    south_north_dim = ustagger.shape[2]\n",
    "    west_east_stag_dim = ustagger.shape[3]\n",
    "    south_north_stag_dim = vstagger.shape[2]\n",
    "    west_east_dim = vstagger.shape[3]\n",
    "\n",
    "    # Allocate and shape the arrays that will be returned\n",
    "    u = v = np.ndarray( (Time_dim, bottom_top_dim, south_north_dim, west_east_dim) )\n",
    "\n",
    "    # Now the destaggering - each grid point in the destaggered array is\n",
    "    # the average of the adjacent mass points in the staggered arrays\n",
    "\n",
    "    for j in np.arange(west_east_dim):\n",
    "        u[:,:,:,j] = ( ustagger[:,:,:,j] + ustagger[:,:,:,j+1] ) / 2.0\n",
    "    for i in np.arange(south_north_dim):\n",
    "        v[:,:,i,:] = ( vstagger[:,:,i,:] + vstagger[:,:,i+1,:] ) / 2.0    \n",
    "\n",
    "    return u, v\n",
    "\n",
    "# This is all we need to define a cylindrical map project\n",
    "the_map = bm.Basemap(projection='cyl',\n",
    "                    llcrnrlon=ll_lon,\n",
    "                    llcrnrlat=ll_lat,\n",
    "                    urcrnrlon=ur_lon,\n",
    "                    urcrnrlat=ur_lat,\n",
    "                    resolution= 'c')\n",
    "#                     area_thresh=1000.0)\n",
    "the_map.drawcoastlines()\n",
    "U_staggered = dataset.variables['U'][:]\n",
    "V_staggered = dataset.variables['V'][:]\n",
    "U, V = destagger_uv(U_staggered, V_staggered)\n",
    "#Create WS10\n",
    "WS = (np.sqrt(U**2 + V**2)) *1.94384 #convert the units to knots\n",
    "\n",
    "\n",
    "\n",
    "\n",
    "#2d map coordinates\n",
    "map2d_x, map2d_y = the_map(XLON[0,:,:], XLAT[0,:,:])\n",
    "print(WS.shape)\n",
    "LLWS = WS[0,1,:,:] - WS[0,0,:,:]\n",
    "print(LLWS)\n",
    "\n",
    "the_map.contourf(map2d_x, map2d_y, LLWS[:,:])\n",
    "\n",
    "plt.colorbar()\n",
    "plt.show"
   ]
  },
  {
   "cell_type": "code",
   "execution_count": 26,
   "metadata": {},
   "outputs": [
    {
     "data": {
      "text/plain": [
       "<function matplotlib.pyplot.show(*args, **kw)>"
      ]
     },
     "execution_count": 26,
     "metadata": {},
     "output_type": "execute_result"
    },
    {
     "data": {
      "image/png": "[encoded data removed]",
      "text/plain": [
       "<matplotlib.figure.Figure at 0x7ffb27046a90>"
      ]
     },
     "metadata": {},
     "output_type": "display_data"
    }
   ],
   "source": [
    "THRESHOLD = 10.0\n",
    "masked_array = (LLWS > THRESHOLD)\n",
    "\n",
    "# This is all we need to define a cylindrical map project\n",
    "the_map = bm.Basemap(projection='cyl',\n",
    "                    llcrnrlon=ll_lon,\n",
    "                    llcrnrlat=ll_lat,\n",
    "                    urcrnrlon=ur_lon,\n",
    "                    urcrnrlat=ur_lat,\n",
    "                    resolution= 'i',\n",
    "                    area_thresh=1000.0)\n",
    "the_map.drawcoastlines()\n",
    "\n",
    "import matplotlib.colors\n",
    "cmap = matplotlib.colors.ListedColormap(['w','r'])\n",
    "plt.contourf(map2d_x, map2d_y, masked_array, cmap=cmap)\n",
    "plt.show"
   ]
  },
  {
   "cell_type": "code",
   "execution_count": null,
   "metadata": {},
   "outputs": [],
   "source": []
  }
 ],
 "metadata": {
  "kernelspec": {
   "display_name": "Python 3",
   "language": "python",
   "name": "python3"
  },
  "language_info": {
   "codemirror_mode": {
    "name": "ipython",
    "version": 3
   },
   "file_extension": ".py",
   "mimetype": "text/x-python",
   "name": "python",
   "nbconvert_exporter": "python",
   "pygments_lexer": "ipython3",
   "version": "3.5.2"
  }
 },
 "nbformat": 4,
 "nbformat_minor": 2
}
