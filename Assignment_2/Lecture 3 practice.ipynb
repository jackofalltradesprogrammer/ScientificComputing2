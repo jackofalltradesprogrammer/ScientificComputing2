{
 "cells": [
  {
   "cell_type": "code",
   "execution_count": 25,
   "metadata": {},
   "outputs": [
    {
     "name": "stdout",
     "output_type": "stream",
     "text": [
      "50\n"
     ]
    },
    {
     "data": {
      "image/png": "[encoded data removed]",
      "text/plain": [
       "<matplotlib.figure.Figure at 0x7f2932a2f2b0>"
      ]
     },
     "metadata": {},
     "output_type": "display_data"
    }
   ],
   "source": [
    "import numpy as np\n",
    "import matplotlib.pyplot as plt\n",
    "import netCDF4\n",
    "\n",
    "WRFOUT_FILE_PATH = 'wrfout_d01_2017-09-09_12:00:00'\n",
    "\n",
    "dataset = netCDF4.Dataset(WRFOUT_FILE_PATH, 'r')\n",
    "\n",
    "\n",
    "\n",
    "# 3D mositure - QVAPOR\n",
    "# Read the data into a NumPy array\n",
    "QVAPOR = dataset.variables['QVAPOR']\n",
    "\n",
    "LAT_INDEX =48 # This is the south_north dimension in the NetCDF file\n",
    "LON_INDEX=30 # This is the west-east dimension in the NetCDF File\n",
    "\n",
    "# How many levels are there ? Use the bottom_top dimension\n",
    "num_levels = dataset.dimensions['bottom_top'].size\n",
    "print(str(num_levels))\n",
    "\n",
    "levels = np.arange(num_levels)\n",
    "# plt.plot(QVAPOR[0,:,LAT_INDEX,LON_INDEX], levels)\n",
    "\n",
    "\n",
    "\n",
    "# Let's get the P and PB arrays\n",
    "P = dataset.variables['P'][:] # the perturbation pressure\n",
    "PB = dataset.variables['PB'][:] # the base state pressure\n",
    "\n",
    "# Create the total pressure millibar field\n",
    "P_mb = (P + PB ) * 0.01\n",
    "\n",
    "# Plot a low level contour for a sanity check\n",
    "#Try the pressure contours again with more contours\n",
    "# clevels = np.arange(950.0, 1051.0, 5.0)\n",
    "# CS = plt.contour(P_mb[0,1, :, :], levels = clevels)\n",
    "# plt.clabel(CS, inline =True)\n",
    "\n",
    "\n",
    "#From above, I already have P_mb and QVAPOR, and have defined the \n",
    "# point LAT_INDEX and LON_INDEX\n",
    "\n",
    "#Get the pressure levels for the lat/lon indices\n",
    "plevels = P_mb[0,:,LAT_INDEX, LON_INDEX]\n",
    "plt.semilogy(QVAPOR[0,:,LAT_INDEX, LON_INDEX], plevels)\n",
    "plt.gca().invert_yaxis()\n",
    "\n",
    "\n",
    "\n",
    "plt.show()\n",
    "dataset.close()\n"
   ]
  },
  {
   "cell_type": "code",
   "execution_count": null,
   "metadata": {},
   "outputs": [],
   "source": []
  }
 ],
 "metadata": {
  "kernelspec": {
   "display_name": "Python 3",
   "language": "python",
   "name": "python3"
  },
  "language_info": {
   "codemirror_mode": {
    "name": "ipython",
    "version": 3
   },
   "file_extension": ".py",
   "mimetype": "text/x-python",
   "name": "python",
   "nbconvert_exporter": "python",
   "pygments_lexer": "ipython3",
   "version": "3.5.2"
  }
 },
 "nbformat": 4,
 "nbformat_minor": 2
}
