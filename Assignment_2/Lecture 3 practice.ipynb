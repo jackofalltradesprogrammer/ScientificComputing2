{
 "cells": [
  {
   "cell_type": "code",
   "execution_count": 4,
   "metadata": {},
   "outputs": [
    {
     "name": "stdout",
     "output_type": "stream",
     "text": [
      "50\n"
     ]
    },
    {
     "data": {
      "image/png": "[encoded data removed]",
      "text/plain": [
       "<matplotlib.figure.Figure at 0x7f29368e42e8>"
      ]
     },
     "metadata": {},
     "output_type": "display_data"
    }
   ],
   "source": [
    "import numpy as np\n",
    "import matplotlib.pyplot as plt\n",
    "import netCDF4\n",
    "\n",
    "WRFOUT_FILE_PATH = 'wrfout_d01_2017-09-09_12:00:00'\n",
    "\n",
    "dataset = netCDF4.Dataset(WRFOUT_FILE_PATH, 'r')\n",
    "\n",
    "\n",
    "\n",
    "# 3D mositure - QVAPOR\n",
    "QVAPOR_var = dataset.variables['QVAPOR']\n",
    "\n",
    "# Read the data into a NumPy array\n",
    "QVAPOR = QVAPOR_var[:]\n",
    "\n",
    "LAT_INDEX =48 # This is the south_north dimension in the NetCDF file\n",
    "LON_INDEX=30 # This is the west-east dimension in the NetCDF File\n",
    "\n",
    "# How many levels are there ? Use the bottom_top dimension\n",
    "num_levels = dataset.dimensions['bottom_top'].size\n",
    "print(str(num_levels))\n",
    "\n",
    "levels = np.arange(num_levels)\n",
    "plt.plot(QVAPOR[0,:,LAT_INDEX,LON_INDEX], levels)\n",
    "# print(\"The description: \" + str(QVAPOR_var.description)) \n",
    "# print(\"The units: \" + str(QVAPOR_var.units))\n",
    "# print(\"The dimensions: \" + str(QVAPOR_var.dimensions))\n",
    "# LEVEL = 3\n",
    "# plt.contourf(QVAPOR_var[0, 30, :, :])\n",
    "# plt.colorbar()\n",
    "plt.show()\n",
    "\n",
    "\n",
    "dataset.close()"
   ]
  }
 ],
 "metadata": {
  "kernelspec": {
   "display_name": "Python 3",
   "language": "python",
   "name": "python3"
  },
  "language_info": {
   "codemirror_mode": {
    "name": "ipython",
    "version": 3
   },
   "file_extension": ".py",
   "mimetype": "text/x-python",
   "name": "python",
   "nbconvert_exporter": "python",
   "pygments_lexer": "ipython3",
   "version": "3.5.2"
  }
 },
 "nbformat": 4,
 "nbformat_minor": 2
}
