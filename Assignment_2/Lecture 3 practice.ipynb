{
 "cells": [
  {
   "cell_type": "code",
   "execution_count": 68,
   "metadata": {},
   "outputs": [
    {
     "name": "stdout",
     "output_type": "stream",
     "text": [
      "334650\n"
     ]
    },
    {
     "data": {
      "image/png": "[encoded data removed]",
      "text/plain": [
       "<matplotlib.figure.Figure at 0x7f2932da28d0>"
      ]
     },
     "metadata": {},
     "output_type": "display_data"
    }
   ],
   "source": [
    "import numpy as np\n",
    "import matplotlib.pyplot as plt\n",
    "import netCDF4\n",
    "\n",
    "WRFOUT_FILE_PATH = 'wrfout_d01_2017-09-09_12:00:00'\n",
    "\n",
    "dataset = netCDF4.Dataset(WRFOUT_FILE_PATH, 'r')\n",
    "\n",
    "\n",
    "\n",
    "\n",
    "# 3D mositure - QVAPOR\n",
    "# Read the data into a NumPy array\n",
    "QVAPOR = dataset.variables['QVAPOR'][:]\n",
    "print(QVAPOR.size)\n",
    "LAT_INDEX =0 # This is the south_north dimension in the NetCDF file\n",
    "LON_INDEX=0 # This is the west-east dimension in the NetCDF File\n",
    "\n",
    "# How many levels are there ? Use the bottom_top dimension\n",
    "# num_levels = dataset.dimensions['bottom_top'].size\n",
    "# print(str(num_levels))\n",
    "\n",
    "# levels = np.arange(num_levels)\n",
    "# plt.plot(QVAPOR[0,:,LAT_INDEX,LON_INDEX], levels)\n",
    "\n",
    "\n",
    "\n",
    "# Let's get the P and PB arrays\n",
    "P = dataset.variables['P'][:] # the perturbation pressure\n",
    "PB = dataset.variables['PB'][:] # the base state pressure\n",
    "\n",
    "# Create the total pressure millibar field\n",
    "P_mb = (P + PB) * 0.01\n",
    "\n",
    "# let's get the 3d array of temperature in degrees C\n",
    "theta = dataset.variables['T'][:] + 300.0 # convert petrubation potential temperature in Kelvin\n",
    "T_c = theta*((P_mb)/1000.0)**(2.0/7.0) -273.0\n",
    "\n",
    "# let's get the dew point\n",
    "# As per the formula dewpoint T = B/ln(X) where X = Ae/wp\n",
    "A = 2.53 * (10**9) # coversion from 1 kPa = 10 mbar\n",
    "B = 5.42 * (10**3)\n",
    "e = 0.622\n",
    "w = QVAPOR\n",
    "p = P_mb  \n",
    "\n",
    "x= (A*e)/(w*p)\n",
    "T_d = B / (np.log(0.622 * 2.53 * (10**9)/np.multiply(QVAPOR,P_mb)))\n",
    "T_d = T_d - 273.15 #convert to celsius\n",
    "\n",
    "# Plot a low level contour for a sanity check\n",
    "#Try the pressure contours again with more contours\n",
    "# clevels = np.arange(950.0, 1051.0, 5.0)\n",
    "# CS = plt.contour(P_mb[0,1, :, :], levels = clevels)\n",
    "# plt.clabel(CS, inline =True)\n",
    "\n",
    "\n",
    "#From above, I already have P_mb and QVAPOR, and have defined the \n",
    "# point LAT_INDEX and LON_INDEX\n",
    "\n",
    "#Get the pressure levels for the lat/lon indices\n",
    "# plevels = P_mb[0,:,LAT_INDEX, LON_INDEX]\n",
    "# plt.semilogy(QVAPOR[0,:,LAT_INDEX, LON_INDEX], plevels)\n",
    "# plt.gca().invert_yaxis()\n",
    "\n",
    "# plt.contourf(T_c[0,0,:,:])\n",
    "# plt.title(\"Level 0 T (degC)\")\n",
    "# plt.colorbar()\n",
    "\n",
    "#Vertical plot\n",
    "t_sounding = T_c[0,:,LAT_INDEX,LON_INDEX]\n",
    "t_d_sounding = T_d[0,:,LAT_INDEX,LON_INDEX]\n",
    "p_sounding = P_mb[0,:,LAT_INDEX,LON_INDEX]\n",
    "plt.semilogy(t_sounding, p_sounding)\n",
    "plt.semilogy(t_d_sounding, p_sounding, color='green')\n",
    "plt.ylim(ymin=50.0, ymax=1050.0)\n",
    "plt.gca().invert_yaxis()\n",
    "\n",
    "#Set up ticks and labels on the y-axis\n",
    "ylocations = np.arange(100,1000,100)\n",
    "plt.yticks(ylocations, ylocations)\n",
    "\n",
    "plt.show()\n",
    "dataset.close()\n"
   ]
  },
  {
   "cell_type": "code",
   "execution_count": null,
   "metadata": {},
   "outputs": [],
   "source": []
  }
 ],
 "metadata": {
  "kernelspec": {
   "display_name": "Python 3",
   "language": "python",
   "name": "python3"
  },
  "language_info": {
   "codemirror_mode": {
    "name": "ipython",
    "version": 3
   },
   "file_extension": ".py",
   "mimetype": "text/x-python",
   "name": "python",
   "nbconvert_exporter": "python",
   "pygments_lexer": "ipython3",
   "version": "3.5.2"
  }
 },
 "nbformat": 4,
 "nbformat_minor": 2
}
