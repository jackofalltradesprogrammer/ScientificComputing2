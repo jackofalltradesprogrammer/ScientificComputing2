{
 "cells": [
  {
   "cell_type": "code",
   "execution_count": 36,
   "metadata": {},
   "outputs": [
    {
     "data": {
      "image/png": "[encoded data removed]",
      "text/plain": [
       "<matplotlib.figure.Figure at 0x7fe354d69d68>"
      ]
     },
     "metadata": {},
     "output_type": "display_data"
    },
    {
     "name": "stdout",
     "output_type": "stream",
     "text": [
      "Missing lonindex argument\n"
     ]
    }
   ],
   "source": [
    "import numpy as np\n",
    "import matplotlib.pyplot as plt\n",
    "import netCDF4\n",
    "import sys\n",
    "\n",
    "class WRFPlay(object):\n",
    "    dataset = \" \"\n",
    "    run = False\n",
    "    latindex = \"\"  # This is the south_north dimension in the NetCDF file\n",
    "    lonindex = \"\"  # This is the west-east dimension in the NetCDF File\n",
    "    def __init__(self, ncfilepath):\n",
    "        try:\n",
    "            #verify file exists & all the variables needed exist with the given file\n",
    "            self.dataset = netCDF4.Dataset(ncfilepath, 'r')\n",
    "        except Exception:\n",
    "            print(\"Not a Valid File Name\")\n",
    "        else:\n",
    "            self.run = True\n",
    "         \n",
    "        \n",
    "    def sounding_plot(self, latindex=1000, lonindex=1000):\n",
    "        if self.run:\n",
    "            try:\n",
    "                # 3D mositure - QVAPOR\n",
    "                # Read the data into a NumPy array\n",
    "                QVAPOR = self.dataset.variables['QVAPOR'][:]\n",
    "                \n",
    "                #verify lat, long falls in the range\n",
    "                self.verifyLatLong(latindex,lonindex)\n",
    "                        \n",
    "                \n",
    "                # Let's get the P and PB arrays\n",
    "                P = self.dataset.variables['P'][:] # the perturbation pressure\n",
    "                PB = self.dataset.variables['PB'][:] # the base state pressure\n",
    "\n",
    "                # Create the total pressure millibar field\n",
    "                P_mb = (P + PB) * 0.01\n",
    "\n",
    "                # let's get the 3d array of temperature in degrees C\n",
    "                theta = self.dataset.variables['T'][:] + 300.0 # convert petrubation potential temperature in Kelvin\n",
    "                T_c = theta*((P_mb)/1000.0)**(2.0/7.0) -273.0\n",
    "\n",
    "                # let's get the dew point\n",
    "                # As per the formula dewpoint T = B/ln(X) where X = Ae/wp\n",
    "                A = 2.53 * (10**9) # coversion from 1 kPa = 10 mbar\n",
    "                B = 5.42 * (10**3)\n",
    "                e = 0.622\n",
    "                w = QVAPOR\n",
    "                p = P_mb  \n",
    "\n",
    "                x= (A*e)/(w*p)\n",
    "                T_d = B / (np.log(0.622 * 2.53 * (10**9)/np.multiply(QVAPOR,P_mb)))\n",
    "                T_d = T_d - 273.15 #convert to celsius\n",
    "\n",
    "\n",
    "                #Vertical plot\n",
    "                t_sounding = T_c[0,:,latindex,lonindex]\n",
    "                t_d_sounding = T_d[0,:,latindex,lonindex]\n",
    "                p_sounding = P_mb[0,:,latindex,lonindex]\n",
    "                plt.semilogy(t_sounding, p_sounding,  label='T')\n",
    "                plt.semilogy(t_d_sounding, p_sounding, color='green', label='Td')\n",
    "                plt.legend(loc='upper right')\n",
    "                plt.title('Lat/Lon indices: ' + str(latindex) +'/' + str(lonindex))\n",
    "                plt.ylim(ymin=50.0, ymax=1050.0)\n",
    "                plt.gca().invert_yaxis()\n",
    "\n",
    "                #Set up ticks and labels on the y-axis\n",
    "                ylocations = np.arange(100,1000,100)\n",
    "                plt.yticks(ylocations, ylocations)\n",
    "\n",
    "                plt.show()\n",
    "\n",
    "            except Exception as error:\n",
    "                print(error)\n",
    "            \n",
    "                \n",
    "        else:\n",
    "            print()\n",
    "    def close(self):\n",
    "        if self.run:\n",
    "            self.dataset.close()\n",
    "            \n",
    "    def verifyLatLong(self, lat, lon):\n",
    "        if lat == 1000:\n",
    "            raise Exception('Missing latindex argument')\n",
    "        elif lon == 1000:\n",
    "            raise Exception('Missing lonindex argument')\n",
    "        self.lat_index = lat \n",
    "        self.lon_index= lon \n",
    "        \n",
    "            \n",
    "    \n",
    "    \n",
    "WRFOUT_FILE_PATH = 'wrfout_d01_2017-09-09_12:00:00'\n",
    "W = WRFPlay(ncfilepath=WRFOUT_FILE_PATH)\n",
    "W.sounding_plot(lonindex=96, latindex=68)\n",
    "W.sounding_plot(latindex=0)\n",
    "W.close()\n",
    "\n"
   ]
  },
  {
   "cell_type": "code",
   "execution_count": null,
   "metadata": {},
   "outputs": [],
   "source": []
  },
  {
   "cell_type": "code",
   "execution_count": null,
   "metadata": {},
   "outputs": [],
   "source": []
  }
 ],
 "metadata": {
  "kernelspec": {
   "display_name": "Python 3",
   "language": "python",
   "name": "python3"
  },
  "language_info": {
   "codemirror_mode": {
    "name": "ipython",
    "version": 3
   },
   "file_extension": ".py",
   "mimetype": "text/x-python",
   "name": "python",
   "nbconvert_exporter": "python",
   "pygments_lexer": "ipython3",
   "version": "3.5.2"
  }
 },
 "nbformat": 4,
 "nbformat_minor": 2
}
