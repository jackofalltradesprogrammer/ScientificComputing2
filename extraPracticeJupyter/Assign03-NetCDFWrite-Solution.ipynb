{
 "cells": [
  {
   "cell_type": "code",
   "execution_count": 2,
   "metadata": {},
   "outputs": [
    {
     "data": {
      "image/png": "[encoded data removed]",
      "text/plain": [
       "<matplotlib.figure.Figure at 0x7f6538f1bcf8>"
      ]
     },
     "metadata": {},
     "output_type": "display_data"
    },
    {
     "name": "stdout",
     "output_type": "stream",
     "text": [
      "varname: T2 not found in dataset: wrfoutdiagnostics_d01_2017-09-09_12:00:00\n"
     ]
    },
    {
     "data": {
      "image/png": "[encoded data removed]",
      "text/plain": [
       "<matplotlib.figure.Figure at 0x7f6536e2a710>"
      ]
     },
     "metadata": {},
     "output_type": "display_data"
    },
    {
     "name": "stdout",
     "output_type": "stream",
     "text": [
      "varname: DON not found in dataset: wrfoutdiagnostics_d01_2017-09-09_12:00:00\n",
      "Failed to open: /this/is/a/bogus/dataset.nc\n"
     ]
    }
   ],
   "source": [
    "%matplotlib inline\n",
    "\n",
    "import os\n",
    "\n",
    "import numpy as np\n",
    "import matplotlib.pyplot as plt\n",
    "\n",
    "import netCDF4\n",
    "   \n",
    "def create_wind_diagnostics(wrfout_filepath, wrfdiag_filepath):\n",
    "    \n",
    "\n",
    "    \"\"\"\n",
    "    Creates a new NetCDF file that has attributes and dimensions \n",
    "    of the original wrfout file, and additionally has a \n",
    "    diagnostic variable, WS10 (10 meter windspeed), which has the\n",
    "    same dimensions as U10 and V10 from the original wrfout file\n",
    "    \n",
    "    wrfout_filepath: path to the original wrfout NetCDF file\n",
    "    wrfdiag_filepath: path to the newly created NetCDF diagnostic file\n",
    "    \"\"\"\n",
    "\n",
    "    METERS_PER_SECOND_TO_MILES_PER_HOUR = 2.24\n",
    "    \n",
    "    # Open original for reading and new diagnostic for writing\n",
    "    wrfout_dataset = netCDF4.Dataset(wrfout_filepath, 'r')    \n",
    "    \n",
    "    # If newfile already exists, remove it to avoid potential\n",
    "    # permission problems\n",
    "    if os.path.isfile(wrfdiag_filepath):\n",
    "        os.remove(wrfdiag_filepath)\n",
    "    wrfdiag_dataset = netCDF4.Dataset(wrfdiag_filepath, 'w')    \n",
    "    \n",
    "    # Write the same dimensions to the diagnostic dataset\n",
    "    for the_key in wrfout_dataset.dimensions.keys():\n",
    "        the_value = wrfout_dataset.dimensions[the_key].size\n",
    "        the_name = wrfout_dataset.dimensions[the_key].name\n",
    "        wrfdiag_dataset.createDimension(the_name, the_value)\n",
    "    \n",
    "    #  Write the global attributes to diagnostic file\n",
    "    for attr in wrfout_dataset.ncattrs():\n",
    "        attr_value = getattr(wrfout_dataset, attr)\n",
    "        setattr(wrfdiag_dataset, attr, attr_value)\n",
    "\n",
    "    # Now let's get U10 and V10 so that we can create S10     \n",
    "    # Surface wind components\n",
    "    U10 = wrfout_dataset.variables['U10'][:]\n",
    "    V10 = wrfout_dataset.variables['U10'][:]    \n",
    "\n",
    "    S10 = np.sqrt(U10**2 + V10**2) * METERS_PER_SECOND_TO_MILES_PER_HOUR\n",
    "\n",
    "    # Write the S10 variable to the diagnostic file\n",
    "    s10 = wrfdiag_dataset.createVariable('WS10', np.float32, \n",
    "                                     ('Time', 'south_north', 'west_east'))\n",
    "    s10.units = \"mph\"\n",
    "    s10.description = \"10m Windspeed\"\n",
    "    s10[:] = S10    \n",
    "           \n",
    "    wrfout_dataset.close()\n",
    "    wrfdiag_dataset.close()\n",
    "    \n",
    "    \n",
    "def plot_wrf2dvar(wrfnc_filepath, varname):\n",
    "    \n",
    "    \"\"\"\n",
    "    Plots the 2D slice from the variable varname found in the\n",
    "    NetCDF file wrfnc_filepath\n",
    "    \n",
    "    We will assume that the selected variable name, if present, \n",
    "    has dimensions (Time, south_north, west_east)\n",
    "    \n",
    "    wrfnc_filepath: NetCDF filename\n",
    "    varname: variable name in the NetCDF file.  We will assume that\n",
    "    this variable name, if present, has dimensions (Time, south_north,\n",
    "    west_east)\n",
    "    \"\"\"\n",
    "    \n",
    "    try:\n",
    "        dataset = netCDF4.Dataset(wrfnc_filepath, 'r')\n",
    "    except:\n",
    "        print(\"Failed to open: \" + str(wrfnc_filepath))\n",
    "        return None\n",
    "    \n",
    "    \n",
    "    if varname not in dataset.variables.keys():\n",
    "        print('varname: ' + str(varname) + ' not found in dataset: ' + str(wrfnc_filepath))\n",
    "        return None\n",
    "    \n",
    "    # If we made it here, we found the variable name in the\n",
    "    # dataset, so we assume dimensions are good and plot it.\n",
    "    the_var = dataset.variables[varname]\n",
    "    units = the_var.units\n",
    "    description = the_var.description\n",
    "    data = the_var[:]\n",
    "\n",
    "    title = description + ' (' + units + ')'\n",
    "    plt.contourf(data[0,:,:])\n",
    "    plt.title(title)\n",
    "    plt.colorbar()\n",
    "    plt.show()    \n",
    "    \n",
    "    \n",
    "    dataset.close()\n",
    "\n",
    "\n",
    "\n",
    "# Open the old file and get its basic attributes for writing to the new file\n",
    "WRFOUT_FILE_PATH = '/home/huscicomp/git/hu_cisc601_lu2018/NetCDFPlay/nonversioned_data/'\n",
    "WRFOUT_FILE_PATH += 'Irmawrfout/wrfout_d01_2017-09-09_12:00:00'\n",
    "\n",
    "WRFDIAG_PATH = 'wrfoutdiagnostics_d01_2017-09-09_12:00:00'    \n",
    "    \n",
    "    \n",
    "create_wind_diagnostics(wrfout_filepath=WRFOUT_FILE_PATH, \n",
    "                        wrfdiag_filepath=WRFDIAG_PATH)    \n",
    "\n",
    "# Call plot_wrf2dvar, have it try to plot DON, T2, WS10\n",
    "plot_wrf2dvar(wrfnc_filepath=WRFDIAG_PATH, varname='WS10')\n",
    "plot_wrf2dvar(wrfnc_filepath=WRFDIAG_PATH, varname='T2')\n",
    "plot_wrf2dvar(wrfnc_filepath=WRFOUT_FILE_PATH, varname='Q2')\n",
    "plot_wrf2dvar(wrfnc_filepath=WRFDIAG_PATH, varname='DON')\n",
    "plot_wrf2dvar(wrfnc_filepath='/this/is/a/bogus/dataset.nc', varname='T2')"
   ]
  },
  {
   "cell_type": "code",
   "execution_count": null,
   "metadata": {},
   "outputs": [],
   "source": []
  }
 ],
 "metadata": {
  "kernelspec": {
   "display_name": "Python 3",
   "language": "python",
   "name": "python3"
  },
  "language_info": {
   "codemirror_mode": {
    "name": "ipython",
    "version": 3
   },
   "file_extension": ".py",
   "mimetype": "text/x-python",
   "name": "python",
   "nbconvert_exporter": "python",
   "pygments_lexer": "ipython3",
   "version": "3.5.2"
  }
 },
 "nbformat": 4,
 "nbformat_minor": 2
}
