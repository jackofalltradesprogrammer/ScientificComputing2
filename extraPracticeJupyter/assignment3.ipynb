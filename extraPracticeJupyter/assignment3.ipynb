{
 "cells": [
  {
   "cell_type": "code",
   "execution_count": 63,
   "metadata": {
    "scrolled": true
   },
   "outputs": [
    {
     "ename": "IndentationError",
     "evalue": "unexpected indent (<ipython-input-63-e222c113d332>, line 39)",
     "output_type": "error",
     "traceback": [
      "\u001b[0;36m  File \u001b[0;32m\"<ipython-input-63-e222c113d332>\"\u001b[0;36m, line \u001b[0;32m39\u001b[0m\n\u001b[0;31m    wsvar = diag_dataset.createVariable('WS10',np.float32,('Time','south_north','west_east'))\u001b[0m\n\u001b[0m    ^\u001b[0m\n\u001b[0;31mIndentationError\u001b[0m\u001b[0;31m:\u001b[0m unexpected indent\n"
     ]
    }
   ],
   "source": [
    "% matplotlib inline\n",
    "\n",
    "import netCDF4\n",
    "\n",
    "import numpy as np\n",
    "\n",
    "import matplotlib.pyplot as plt\n",
    "\n",
    "WRFOUT_FILE_PATH  ='/home/huscicomp/wrfout_d01_2017-09-07_14_00_00'\n",
    "\n",
    "DIAG_FILE_PATH = '/home/huscicomp/diag'\n",
    "\n",
    "orig_dataset  = netCDF4.Dataset(WRFOUT_FILE_PATH, 'r')\n",
    "\n",
    "diag_dataset = netCDF4.Dataset(DIAG_FILE_PATH, 'w')\n",
    "\n",
    "for the_key in orig_dataset.dimensions.keys():the_value = orig_dataset.dimensions[the_key].size\n",
    "    \n",
    "the_name = orig_dataset.dimensions[the_key].name\n",
    "\n",
    "diag_dataset.createDimension(the_name, the_value)\n",
    "\n",
    "VAR_NAME = 'WS10'\n",
    "\n",
    "orig_var_obj = orig_dataset.variables[VAR_NAME]\n",
    "\n",
    "orig_var_attributes = orig_var_obj.ncattrs()\n",
    "\n",
    "for attr in orig_var_attributes:print( attr + ': ' + str(getattr(orig_var_obj, attr)) )\n",
    "    \n",
    "orig_var_values = orig_var_obj[:] \n",
    "\n",
    "orig_var_datatype = orig_var_values.dtype\n",
    "\n",
    "orig_var_dims = orig_var_obj.dimensions\n",
    "\n",
    "WS10 = (np.sqrt(U10**2 + V10**2)) *2.2369 \n",
    "\n",
    "    wsvar = diag_dataset.createVariable('WS10',np.float32,('Time','south_north','west_east'))\n",
    "\n",
    "    WSvar.units = 'mph'\n",
    "    WSvar.long_name = 'speed of the wind'\n",
    "\n",
    "    WSvar[:] = WS10\n",
    "\n",
    "    diag_dataset.close()\n",
    "    \n",
    "    orig_dataset.close()\n",
    "\n",
    "\n",
    "\n"
   ]
  },
  {
   "cell_type": "code",
   "execution_count": null,
   "metadata": {},
   "outputs": [],
   "source": []
  },
  {
   "cell_type": "code",
   "execution_count": null,
   "metadata": {},
   "outputs": [],
   "source": []
  },
  {
   "cell_type": "code",
   "execution_count": null,
   "metadata": {},
   "outputs": [],
   "source": []
  }
 ],
 "metadata": {
  "kernelspec": {
   "display_name": "Python 3",
   "language": "python",
   "name": "python3"
  },
  "language_info": {
   "codemirror_mode": {
    "name": "ipython",
    "version": 3
   },
   "file_extension": ".py",
   "mimetype": "text/x-python",
   "name": "python",
   "nbconvert_exporter": "python",
   "pygments_lexer": "ipython3",
   "version": "3.5.2"
  }
 },
 "nbformat": 4,
 "nbformat_minor": 2
}
