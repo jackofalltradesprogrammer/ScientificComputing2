{
 "cells": [
  {
   "cell_type": "code",
   "execution_count": 2,
   "metadata": {},
   "outputs": [
    {
     "ename": "TypeError",
     "evalue": "ufunc 'bitwise_xor' not supported for the input types, and the inputs could not be safely coerced to any supported types according to the casting rule ''safe''",
     "output_type": "error",
     "traceback": [
      "\u001b[0;31m---------------------------------------------------------------------------\u001b[0m",
      "\u001b[0;31mTypeError\u001b[0m                                 Traceback (most recent call last)",
      "\u001b[0;32m<ipython-input-2-4c53005a117c>\u001b[0m in \u001b[0;36m<module>\u001b[0;34m()\u001b[0m\n\u001b[1;32m     35\u001b[0m     \u001b[0mprint\u001b[0m\u001b[0;34m(\u001b[0m\u001b[0mstr\u001b[0m\u001b[0;34m(\u001b[0m\u001b[0mws10\u001b[0m\u001b[0;34m)\u001b[0m\u001b[0;34m)\u001b[0m\u001b[0;34m\u001b[0m\u001b[0m\n\u001b[1;32m     36\u001b[0m \u001b[0;34m\u001b[0m\u001b[0m\n\u001b[0;32m---> 37\u001b[0;31m \u001b[0mcreate_wind_dignostics\u001b[0m\u001b[0;34m(\u001b[0m\u001b[0mWRFOUT_FILEPATH\u001b[0m\u001b[0;34m,\u001b[0m \u001b[0mWRFDIAG_FILEPATH\u001b[0m\u001b[0;34m)\u001b[0m\u001b[0;34m\u001b[0m\u001b[0m\n\u001b[0m\u001b[1;32m     38\u001b[0m \u001b[0;34m\u001b[0m\u001b[0m\n",
      "\u001b[0;32m<ipython-input-2-4c53005a117c>\u001b[0m in \u001b[0;36mcreate_wind_dignostics\u001b[0;34m(wrfout_filepath, wrfdiag_filepath)\u001b[0m\n\u001b[1;32m     32\u001b[0m \u001b[0;34m\u001b[0m\u001b[0m\n\u001b[1;32m     33\u001b[0m     \u001b[0;31m#Create WS10\u001b[0m\u001b[0;34m\u001b[0m\u001b[0;34m\u001b[0m\u001b[0m\n\u001b[0;32m---> 34\u001b[0;31m     \u001b[0mws10\u001b[0m \u001b[0;34m=\u001b[0m \u001b[0mnp\u001b[0m\u001b[0;34m.\u001b[0m\u001b[0msqrt\u001b[0m\u001b[0;34m(\u001b[0m\u001b[0mU10\u001b[0m\u001b[0;34m^\u001b[0m\u001b[0;36m2\u001b[0m \u001b[0;34m+\u001b[0m \u001b[0mV10\u001b[0m\u001b[0;34m^\u001b[0m\u001b[0;36m2\u001b[0m\u001b[0;34m)\u001b[0m\u001b[0;34m\u001b[0m\u001b[0m\n\u001b[0m\u001b[1;32m     35\u001b[0m     \u001b[0mprint\u001b[0m\u001b[0;34m(\u001b[0m\u001b[0mstr\u001b[0m\u001b[0;34m(\u001b[0m\u001b[0mws10\u001b[0m\u001b[0;34m)\u001b[0m\u001b[0;34m)\u001b[0m\u001b[0;34m\u001b[0m\u001b[0m\n\u001b[1;32m     36\u001b[0m \u001b[0;34m\u001b[0m\u001b[0m\n",
      "\u001b[0;31mTypeError\u001b[0m: ufunc 'bitwise_xor' not supported for the input types, and the inputs could not be safely coerced to any supported types according to the casting rule ''safe''"
     ]
    }
   ],
   "source": [
    "import numpy as np\n",
    "import netCDF4\n",
    "import matplotlib.pyplot as plt\n",
    "import os\n",
    "\n",
    "#Original netCDF file path\n",
    "WRFOUT_FILEPATH = 'wrfout_d01_2017-09-09_12:00:00'\n",
    "\n",
    "#New netCDF file path\n",
    "WRFDIAG_FILEPATH = 'newfileassignment.nc'\n",
    "\n",
    "def create_wind_dignostics(wrfout_filepath=None, wrfdiag_filepath=None):\n",
    "    \n",
    "    orig_dataset = netCDF4.Dataset(wrfout_filepath, 'r')\n",
    "    \n",
    "    #if newfile already exits, remove it to avoid potential\n",
    "    #permission problems\n",
    "    if os.path.isfile(wrfdiag_filepath):\n",
    "        os.remove(wrfdiag_filepath)\n",
    "    diag_dataset = netCDF4.Dataset(wrfdiag_filepath, 'w', clobber=True)\n",
    "    \n",
    "    #write the same dimensions to the diagnostic dataset\n",
    "    for the_key in orig_dataset.dimensions.keys():\n",
    "        the_value = orig_dataset.dimensions[the_key].size\n",
    "        the_name = orig_dataset.dimensions[the_key].name\n",
    "        diag_dataset.createDimension(the_name, the_value)\n",
    "        \n",
    "    # Create the new variable WS10 (miles/hour) for U10 & V10 (m/sec)\n",
    "    # Let's get U10 & V0\n",
    "    U10 = orig_dataset.variables['U10'][:]\n",
    "    V10 = orig_dataset.variables['V10'][:]\n",
    "    \n",
    "    #Create WS10\n",
    "    ws10 = np.sqrt(U10^2 + V10^2)\n",
    "    print(str(ws10))\n",
    "    \n",
    "create_wind_dignostics(WRFOUT_FILEPATH, WRFDIAG_FILEPATH)\n",
    "    "
   ]
  },
  {
   "cell_type": "code",
   "execution_count": null,
   "metadata": {},
   "outputs": [],
   "source": []
  }
 ],
 "metadata": {
  "kernelspec": {
   "display_name": "Python 3",
   "language": "python",
   "name": "python3"
  }
 },
 "nbformat": 4,
 "nbformat_minor": 2
}
