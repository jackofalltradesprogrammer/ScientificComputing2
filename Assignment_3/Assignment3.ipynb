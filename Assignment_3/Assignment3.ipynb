{
 "cells": [
  {
   "cell_type": "code",
   "execution_count": 17,
   "metadata": {
    "scrolled": true
   },
   "outputs": [
    {
     "name": "stdout",
     "output_type": "stream",
     "text": [
      "[[[ 0.34171441 -0.44644356 -1.29905605 ..., -5.98507881 -6.56855917\n",
      "   -6.93130255]\n",
      "  [ 0.62735701 -0.20263827 -1.04816473 ..., -7.18176413 -7.3414669\n",
      "   -7.31747007]\n",
      "  [ 0.51034725 -0.38194737 -1.05690897 ..., -7.7611146  -7.61408329\n",
      "   -7.40999174]\n",
      "  ..., \n",
      "  [-0.22379163 -0.40828568 -0.49820995 ..., -2.37095833 -2.30453777\n",
      "   -2.5118475 ]\n",
      "  [-0.20937768 -0.27085122 -0.28166771 ..., -2.01830554 -2.02161694\n",
      "   -2.16005421]\n",
      "  [-0.14057823 -0.10798287 -0.06372952 ..., -1.68471158 -1.75092208\n",
      "   -1.83465683]]]\n",
      "<class 'netCDF4._netCDF4.Variable'>\n",
      "float32 WS10(Time, south_north, west_east)\n",
      "    units: m h-1\n",
      "    long_name: 10 meter windspeed\n",
      "unlimited dimensions: \n",
      "current shape = (1, 69, 97)\n",
      "filling on, default _FillValue of 9.969209968386869e+36 used\n",
      "\n"
     ]
    },
    {
     "data": {
      "image/png": "[encoded data removed]",
      "text/plain": [
       "<matplotlib.figure.Figure at 0x7ff0b4370748>"
      ]
     },
     "metadata": {},
     "output_type": "display_data"
    }
   ],
   "source": [
    "import numpy as np\n",
    "import netCDF4\n",
    "import matplotlib.pyplot as plt\n",
    "import os\n",
    "\n",
    "#Original netCDF file path\n",
    "WRFOUT_FILEPATH = 'wrfout_d01_2017-09-09_12:00:00'\n",
    "\n",
    "#New netCDF file path\n",
    "WRFDIAG_FILEPATH = 'newfileassignment.nc'\n",
    "\n",
    "def create_wind_dignostics(wrfout_filepath=None, wrfdiag_filepath=None):\n",
    "    \n",
    "    orig_dataset = netCDF4.Dataset(wrfout_filepath, 'r')\n",
    "    \n",
    "    #if newfile already exits, remove it to avoid potential\n",
    "    #permission problems\n",
    "    if os.path.isfile(wrfdiag_filepath):\n",
    "        os.remove(wrfdiag_filepath)\n",
    "    diag_dataset = netCDF4.Dataset(wrfdiag_filepath, 'w', clobber=True)\n",
    "    \n",
    "    #write the same dimensions to the diagnostic dataset\n",
    "    for the_key in orig_dataset.dimensions.keys():\n",
    "        the_value = orig_dataset.dimensions[the_key].size\n",
    "        the_name = orig_dataset.dimensions[the_key].name\n",
    "        diag_dataset.createDimension(the_name, the_value)\n",
    "        \n",
    "    # Create the new variable WS10 (miles/hour) for U10 & V10 (m/sec)\n",
    "    # Let's get U10 & V0\n",
    "    U10 = orig_dataset.variables['U10'][:]\n",
    "    V10 = orig_dataset.variables['V10'][:]\n",
    "    \n",
    "    \n",
    "    #Create WS10\n",
    "    WS10 = (np.sqrt(U10**2 + V10**2)) \n",
    "    # * 2.236 #units are in miles/hour\n",
    "    \n",
    "    # Write it, along with attributes, to the diagnostic field\n",
    "    ws10 = diag_dataset.createVariable('WS10', np.float32,\n",
    "                                       ('Time', 'south_north',\n",
    "                                        'west_east'))\n",
    "    ws10.units = \"m h-1\"\n",
    "    ws10.long_name = \"10 meter windspeed\"\n",
    "    ws10[:] = WS10\n",
    "        \n",
    "\n",
    "#     plt.contourf(ws10[0,:,:])\n",
    "#     plt.title(\"Level 0 T (degC)\")\n",
    "#     plt.colorbar()\n",
    "#     plt.show()\n",
    "    \n",
    "create_wind_dignostics(WRFOUT_FILEPATH, WRFDIAG_FILEPATH)\n",
    "    "
   ]
  },
  {
   "cell_type": "code",
   "execution_count": null,
   "metadata": {},
   "outputs": [],
   "source": []
  }
 ],
 "metadata": {
  "kernelspec": {
   "display_name": "Python 3",
   "language": "python",
   "name": "python3"
  }
 },
 "nbformat": 4,
 "nbformat_minor": 2
}
