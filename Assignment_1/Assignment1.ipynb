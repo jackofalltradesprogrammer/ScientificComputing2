{
 "cells": [
  {
   "cell_type": "code",
   "execution_count": 3,
   "metadata": {},
   "outputs": [
    {
     "name": "stdout",
     "output_type": "stream",
     "text": [
      "<class 'numpy.str_'>\n",
      "<class 'numpy.float64'>\n",
      "Max is  31.14774\n",
      "Min is  -26.79958\n",
      "Mean is  -4.68343261528\n"
     ]
    }
   ],
   "source": [
    "import numpy as np;\n",
    "INPUT_FILE = \"u10.txt\";\n",
    "open_file = open(INPUT_FILE,'r');\n",
    "u10 = np.array(open_file.read().replace(' ','').replace('\\n','').replace(';','') \\\n",
    "    .split('=',1)[1].split(','));\n",
    "# print(u10);\n",
    " #convert the string to numbers\n",
    "print(type(u10[0]));\n",
    "u10 = u10.astype(np.float);\n",
    "print(type(u10[0]));\n",
    "print(\"Max is \", np.amax(u10));\n",
    "print(\"Min is \", np.amin(u10));\n",
    "print(\"Mean is \", np.mean(u10));"
   ]
  }
 ],
 "metadata": {
  "kernelspec": {
   "display_name": "Python 3",
   "language": "python",
   "name": "python3"
  },
  "language_info": {
   "codemirror_mode": {
    "name": "ipython",
    "version": 3
   },
   "file_extension": ".py",
   "mimetype": "text/x-python",
   "name": "python",
   "nbconvert_exporter": "python",
   "pygments_lexer": "ipython3",
   "version": "3.5.2"
  }
 },
 "nbformat": 4,
 "nbformat_minor": 2
}
