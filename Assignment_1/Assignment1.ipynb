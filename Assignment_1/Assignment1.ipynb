{
 "cells": [
  {
   "cell_type": "code",
   "execution_count": 58,
   "metadata": {},
   "outputs": [
    {
     "name": "stdout",
     "output_type": "stream",
     "text": [
      "Max is  31.14774\n",
      "Min is  -26.79958\n",
      "Min is  -4.68343261528\n"
     ]
    }
   ],
   "source": [
    "import numpy as np;\n",
    "path = \"u10.txt\";\n",
    "open_file = open(path,'r');\n",
    "u10 = open_file.read().replace(' ','').replace('\\n','').replace(';','') \\\n",
    "    .split('=',1)[1].split(',');\n",
    "# print(u10);\n",
    "u10Data = list(map(float,u10)); #convert the string to numbers\n",
    "print(\"Max is \", max(u10Data));\n",
    "print(\"Min is \", min(u10Data));\n",
    "print(\"Min is \", np.average(u10Data));\n"
   ]
  }
 ],
 "metadata": {
  "kernelspec": {
   "display_name": "Python 3",
   "language": "python",
   "name": "python3"
  },
  "language_info": {
   "codemirror_mode": {
    "name": "ipython",
    "version": 3
   },
   "file_extension": ".py",
   "mimetype": "text/x-python",
   "name": "python",
   "nbconvert_exporter": "python",
   "pygments_lexer": "ipython3",
   "version": "3.5.2"
  }
 },
 "nbformat": 4,
 "nbformat_minor": 2
}
